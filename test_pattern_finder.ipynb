{
 "cells": [
  {
   "cell_type": "markdown",
   "metadata": {},
   "source": [
    "### Debugging/Testing PatternFinder"
   ]
  },
  {
   "cell_type": "code",
   "execution_count": null,
   "metadata": {
    "collapsed": true
   },
   "outputs": [],
   "source": [
    "# Plot in this IPython Notebook instead of opening separate windows\n",
    "%matplotlib inline\n",
    "%config InlineBackend.figure_format = 'retina'\n",
    "import scipy as sp\n",
    "from skimage import io"
   ]
  },
  {
   "cell_type": "code",
   "execution_count": null,
   "metadata": {
    "collapsed": false
   },
   "outputs": [],
   "source": [
    "import pattern_finder_gpu\n",
    "from pattern_finder_gpu import center_roi_around"
   ]
  },
  {
   "cell_type": "code",
   "execution_count": null,
   "metadata": {
    "collapsed": false
   },
   "outputs": [],
   "source": [
    "test_image = sp.ones((50,20,3), dtype=sp.float32) -0.4\n",
    "test_cross_rc = [2, 10]\n",
    "\n",
    "test_image[test_cross_rc[0]-2:test_cross_rc[0]+3, test_cross_rc[1]] = (1.0, 0, 0)\n",
    "test_image[test_cross_rc[0], test_cross_rc[1]-2:test_cross_rc[1]+3] = (0, 1.0, 0)\n",
    "io.imshow(test_image)"
   ]
  },
  {
   "cell_type": "code",
   "execution_count": null,
   "metadata": {
    "collapsed": false
   },
   "outputs": [],
   "source": [
    "test_target = sp.ones((7,11,4), dtype=sp.float32)\n",
    "test_target_center_rc = sp.array(test_target.shape[:2]) / 2 - 0.5\n",
    "\n",
    "# boder transparent\n",
    "test_target[0,:,3] = 0\n",
    "test_target[-1,:,3] = 0\n",
    "test_target[:,0,3] = 0\n",
    "test_target[:,-1,3] = 0\n",
    "test_target_cross_rc = sp.around(test_target_center_rc).astype(sp.int32)\n",
    "test_target[test_target_cross_rc[0]-1:test_target_cross_rc[0]+2, test_target_cross_rc[1], :] = (1.0, 0, 0, 1)\n",
    "test_target[test_target_cross_rc[0], test_target_cross_rc[1]-1:test_target_cross_rc[1]+2, :] = (0, 1.0, 0, 1)\n",
    "io.imshow(test_target)"
   ]
  },
  {
   "cell_type": "code",
   "execution_count": null,
   "metadata": {
    "collapsed": false
   },
   "outputs": [],
   "source": [
    "test_roi = center_roi_around( (15,10), (1,1))"
   ]
  },
  {
   "cell_type": "code",
   "execution_count": null,
   "metadata": {
    "collapsed": false
   },
   "outputs": [],
   "source": [
    "test_roi"
   ]
  },
  {
   "cell_type": "code",
   "execution_count": null,
   "metadata": {
    "collapsed": false
   },
   "outputs": [],
   "source": [
    "test_PF = pattern_finder_gpu.PatternFinder(partitions=1)"
   ]
  },
  {
   "cell_type": "code",
   "execution_count": null,
   "metadata": {
    "collapsed": false
   },
   "outputs": [],
   "source": [
    "test_PF.set_image(test_image)\n",
    "test_PF.set_pattern(test_target)\n",
    "test_out, test_rc, test_val = test_PF.find(roi=[2,1,11,11])\n",
    "print(test_val)\n",
    "print(test_rc)\n",
    "io.imshow(test_out)"
   ]
  },
  {
   "cell_type": "code",
   "execution_count": null,
   "metadata": {
    "collapsed": false
   },
   "outputs": [],
   "source": [
    "test_out, test_rc, test_val = test_PF.find()\n",
    "print(test_val)"
   ]
  },
  {
   "cell_type": "code",
   "execution_count": null,
   "metadata": {
    "collapsed": false
   },
   "outputs": [],
   "source": [
    "test_out, test_rc, test_val = test_PF.find(test_target, test_image)\n",
    "print(test_val)"
   ]
  },
  {
   "cell_type": "code",
   "execution_count": null,
   "metadata": {
    "collapsed": false
   },
   "outputs": [],
   "source": [
    "io.imshow(test_out)"
   ]
  },
  {
   "cell_type": "code",
   "execution_count": null,
   "metadata": {
    "collapsed": false
   },
   "outputs": [],
   "source": [
    "test_rc"
   ]
  },
  {
   "cell_type": "code",
   "execution_count": null,
   "metadata": {
    "collapsed": false
   },
   "outputs": [],
   "source": [
    "test_cross_rc"
   ]
  },
  {
   "cell_type": "code",
   "execution_count": null,
   "metadata": {
    "collapsed": true
   },
   "outputs": [],
   "source": [
    "from skimage import transform"
   ]
  },
  {
   "cell_type": "code",
   "execution_count": null,
   "metadata": {
    "collapsed": false,
    "scrolled": true
   },
   "outputs": [],
   "source": [
    "test_transe = transform.AffineTransform(translation=(test_rc-test_target_center_rc)[::-1])"
   ]
  },
  {
   "cell_type": "code",
   "execution_count": null,
   "metadata": {
    "collapsed": false
   },
   "outputs": [],
   "source": [
    "test_transe.params"
   ]
  },
  {
   "cell_type": "code",
   "execution_count": null,
   "metadata": {
    "collapsed": true
   },
   "outputs": [],
   "source": [
    "test_image_transfromed = transform.warp(test_image,\n",
    "                                        test_transe,\n",
    "                                        output_shape=[test_target.shape[0], test_target.shape[1]])"
   ]
  },
  {
   "cell_type": "code",
   "execution_count": null,
   "metadata": {
    "collapsed": false
   },
   "outputs": [],
   "source": [
    "io.imshow(test_image_transfromed)"
   ]
  },
  {
   "cell_type": "code",
   "execution_count": null,
   "metadata": {
    "collapsed": true
   },
   "outputs": [],
   "source": []
  }
 ],
 "metadata": {
  "kernelspec": {
   "display_name": "Python 3",
   "language": "python",
   "name": "python3"
  },
  "language_info": {
   "codemirror_mode": {
    "name": "ipython",
    "version": 3
   },
   "file_extension": ".py",
   "mimetype": "text/x-python",
   "name": "python",
   "nbconvert_exporter": "python",
   "pygments_lexer": "ipython3",
   "version": "3.4.3"
  }
 },
 "nbformat": 4,
 "nbformat_minor": 0
}
