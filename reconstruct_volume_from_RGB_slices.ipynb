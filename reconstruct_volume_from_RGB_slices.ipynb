{
 "cells": [
  {
   "cell_type": "markdown",
   "metadata": {},
   "source": [
    "# Build Stack – Aligning a Stack of Images Based On a Fixed Target Outline"
   ]
  },
  {
   "cell_type": "markdown",
   "metadata": {},
   "source": [
    "Authors: Daniel Sieber, Samuel John\n",
    "\n",
    "#### Abstract\n",
    "\n",
    "Images that have been cut or grinded from a block are oftentimes not aligned. This IPython notebook uses a fixed target structure in the image (in our case the outline of an overmold) that is visible in all images of the stack to find the best affine transform which aligns all images to the given target. The target is based on one image of the stack where only the fixed structure remains visible and the remaining area is made transparent.\n",
    "\n",
    "\n",
    "*TODO*:\n",
    "\n",
    "- Write better Abstract\n",
    "- Link to GitHub repository here\n",
    "- Add \"How to cite\" statement and link to paper (DOI) here\n",
    "- Improve code commenting\n",
    "\n",
    "\n",
    "#### [The MIT License (MIT)](http://opensource.org/licenses/MIT)\n",
    "\n",
    "Copyright (c) 2015 Daniel Sieber, Samuel John\n",
    "\n",
    "\n",
    "<div style=\"font-size:7pt;\">\n",
    "Permission is hereby granted, free of charge, to any person obtaining a copy\n",
    "of this software and associated documentation files (the \"Software\"), to deal\n",
    "in the Software without restriction, including without limitation the rights\n",
    "to use, copy, modify, merge, publish, distribute, sublicense, and/or sell\n",
    "copies of the Software, and to permit persons to whom the Software is\n",
    "furnished to do so, subject to the following conditions:\n",
    "\n",
    "The above copyright notice and this permission notice shall be included in\n",
    "all copies or substantial portions of the Software.\n",
    "\n",
    "THE SOFTWARE IS PROVIDED \"AS IS\", WITHOUT WARRANTY OF ANY KIND, EXPRESS OR\n",
    "IMPLIED, INCLUDING BUT NOT LIMITED TO THE WARRANTIES OF MERCHANTABILITY,\n",
    "FITNESS FOR A PARTICULAR PURPOSE AND NONINFRINGEMENT.  IN NO EVENT SHALL THE\n",
    "AUTHORS OR COPYRIGHT HOLDERS BE LIABLE FOR ANY CLAIM, DAMAGES OR OTHER\n",
    "LIABILITY, WHETHER IN AN ACTION OF CONTRACT, TORT OR OTHERWISE, ARISING FROM,\n",
    "OUT OF OR IN CONNECTION WITH THE SOFTWARE OR THE USE OR OTHER DEALINGS IN\n",
    "THE SOFTWARE.\n",
    "</div>"
   ]
  },
  {
   "cell_type": "markdown",
   "metadata": {},
   "source": [
    "### Imports & Set-Up"
   ]
  },
  {
   "cell_type": "code",
   "execution_count": null,
   "metadata": {
    "collapsed": false
   },
   "outputs": [],
   "source": [
    "# Plot in this IPython Notebook instead of opening separate windows\n",
    "%matplotlib inline\n",
    "%config InlineBackend.figure_format = 'retina'"
   ]
  },
  {
   "cell_type": "code",
   "execution_count": null,
   "metadata": {
    "collapsed": false
   },
   "outputs": [],
   "source": [
    "import os\n",
    "import time\n",
    "\n",
    "# Import external modules used by this script\n",
    "from skimage import img_as_float, io, transform\n",
    "\n",
    "# Scientific Python and typed array/matrix support (by including NumPy)\n",
    "import scipy as sp\n",
    "\n",
    "# Plotting\n",
    "import matplotlib.pyplot as plt\n",
    "from mpl_toolkits.mplot3d import Axes3D\n",
    "\n",
    "# Write Python objects to disk.\n",
    "# TODO: This should be replaced by some HDF5 files that store the transformation matrix\n",
    "import pickle\n",
    "\n",
    "# Parsing svg files and accessing paths in there\n",
    "from xml.dom import minidom\n",
    "import svg.path  # you might need to `pip install svg.path`"
   ]
  },
  {
   "cell_type": "markdown",
   "metadata": {},
   "source": [
    "Our own modules:"
   ]
  },
  {
   "cell_type": "code",
   "execution_count": null,
   "metadata": {
    "collapsed": false
   },
   "outputs": [],
   "source": [
    "import pattern_finder_gpu\n",
    "from pattern_finder_gpu import center_roi_around"
   ]
  },
  {
   "cell_type": "markdown",
   "metadata": {},
   "source": [
    "### Definition of functions used by this script:"
   ]
  },
  {
   "cell_type": "code",
   "execution_count": null,
   "metadata": {
    "collapsed": true
   },
   "outputs": [],
   "source": [
    "def rotation_transform_center(image, angle, center_xy=None):\n",
    "    \"\"\"\n",
    "    This function returns the transformation matrix for a rotation of a given image for a given angle \n",
    "    around a given center\n",
    "    The operation is implemented by the following steps to avoid unwanted translational side effects:\n",
    "    1.) Translate the image to the rotation center\n",
    "    2.) Rotating the image for the given angle\n",
    "    3.) Translate the image back to its original translatory position\n",
    "    \n",
    "    image...ndarray\n",
    "    angle...angle in degree\n",
    "    center_xy...coordinates of rotation in image coordinates\n",
    "    \"\"\"\n",
    "\n",
    "    #If no rotation center is defined, set the center of the image as center\n",
    "    if center_xy is None:\n",
    "        cols, rows = image.shape[:2]\n",
    "        center_xy = sp.array((rows, cols)) / 2. - 0.5\n",
    "    #Calculate transformation matrices \n",
    "    tform1 = transform.SimilarityTransform(translation=-center_xy)\n",
    "    tform2 = transform.SimilarityTransform(rotation=sp.deg2rad(angle))\n",
    "    tform3 = transform.SimilarityTransform(translation=center_xy)\n",
    "    #Return transformation matrix\n",
    "    return tform1 + tform2 + tform3"
   ]
  },
  {
   "cell_type": "code",
   "execution_count": null,
   "metadata": {
    "collapsed": true
   },
   "outputs": [],
   "source": [
    "def plot_overlay(image, svg_path, ax=None, figsize=(15,15)):\n",
    "    \"\"\"This function plots a path from an SVG_xml and shows it on top of image\n",
    "    image...ndarray\n",
    "    svg_path...svg path object, see svg.path\n",
    "    ax...handle to axes\n",
    "    figsize...size of figure in pixels\n",
    "    \"\"\"\n",
    "    \n",
    "    #Create new figure and axes\n",
    "    if ax is None:\n",
    "        fig = plt.figure(figsize=figsize)\n",
    "        ax = fig.add_axes([0,0,1,1])\n",
    "    #Show transformed image\n",
    "    ax.imshow(image, interpolation='nearest')\n",
    "    #Sample 10000 points from the path and get their coordinates\n",
    "    numberSamplePoints = 10000\n",
    "    overlay_coords = sp.array([svg_path.point(p/numberSamplePoints) for p in range(numberSamplePoints)])\n",
    "    #Plot the path\n",
    "    ax.plot(overlay_coords.real, overlay_coords.imag, color='magenta')"
   ]
  },
  {
   "cell_type": "code",
   "execution_count": null,
   "metadata": {
    "collapsed": true
   },
   "outputs": [],
   "source": [
    "def print_parameters(T):\n",
    "    \"\"\"Function that prints the components an affine transformation matrix on screen\n",
    "    T...skimage.transform.AffineTransformation object\n",
    "    Meaning of outputs printed:\n",
    "    x,y...Translations in X,Y direction\n",
    "    r...Rotation in degrees\n",
    "    sx,sy...Scale in X,Y direction\n",
    "    shear...Shear\n",
    "    \"\"\"\n",
    "    print(\" x={x:.0f} y={y:.0f} r={rot:.3f}º sx={sx:.3f} sy={sy:.3f} shear={shear:.4f}\"\n",
    "      .format(x=sp.float64(T.translation[0]),\n",
    "              y=sp.float64(T.translation[1]),\n",
    "              rot=sp.rad2deg(T.rotation),\n",
    "              sx=T.scale[0],\n",
    "              sy=T.scale[1], \n",
    "              shear=T.shear))"
   ]
  },
  {
   "cell_type": "code",
   "execution_count": null,
   "metadata": {
    "collapsed": true
   },
   "outputs": [],
   "source": [
    "def find_pattern_rotated(PF, pattern, image, rescale=0.2, rotate=(-60,61,120),\n",
    "                         ellipsecorr=(1,1,1), ellipseres=1,\n",
    "                         roi_center=None,\n",
    "                         roi_size=(41,41),\n",
    "                         plot=False):\n",
    "    start_time = time.time()\n",
    "    print(\"find_pattern_rotated:\")\n",
    "    print(\"Rescaling image and target by scale={rescale}.\\n\"\n",
    "          \"   image {0}x{1} px to {2:.2f}x{3:.02f} px.\"\n",
    "          .format(image.shape[0], image.shape[1],\n",
    "                  image.shape[0]*rescale, image.shape[1]*rescale, rescale=rescale), flush=True)\n",
    "    pattern_scaled = transform.rescale(pattern, rescale)\n",
    "    image_scaled = transform.rescale(image, rescale)\n",
    "\n",
    "    if len(sp.linspace(*rotate))>1 and rescale<0.3:\n",
    "        #remove zero values in low rescale values because they may end up in false local minima\n",
    "        rotations = sp.linspace(*rotate)\n",
    "        rotations = rotations[~sp.isclose(rotations,0,atol=0.2)]\n",
    "        print(\"Rotation values close to zero were removed in low res rescale\")\n",
    "    else:       \n",
    "        rotations = sp.linspace(*rotate)\n",
    "    ellipseangles   = sp.linspace(0,180,ellipseres)\n",
    "    ellipsecorrs  = sp.linspace(*ellipsecorr )\n",
    "    \n",
    "    result = []\n",
    "    vmax = 0.0\n",
    "    vmin = sp.Inf\n",
    "    if roi_center is None:\n",
    "        roi_center = sp.array(im.shape[:2])/2.0 - 0.5\n",
    "    roi = center_roi_around(roi_center*rescale, roi_size)\n",
    "    print(\"ROI: center={0}, {1}, in unscaled image.\\n\"\n",
    "          \"     height={2}, width={3} in scaled image\"\n",
    "          .format(roi_center[0], roi_center[1], roi_size[0], roi_size[1]))\n",
    "    if ellipsecorr[2]>1:\n",
    "        print(\"Now correlating ellipse correction from {0}x to {1}x in {2} steps at an\"\n",
    "              .format(*ellipsecorr)+\" Angular resolution {}º\".format(180/ellipseres))\n",
    "    #TODO: correct number for eliminated values which are close to zero in low resolution pics\n",
    "    if rotate[2]>1:\n",
    "        print(\"Now correlating rotations from {0}º to {1}º in {2} steps:\"\n",
    "              .format(*rotate))\n",
    "    else:\n",
    "        print(\"Rotation is kept constant at {0}°\".format(rotate[0]))\n",
    "    \n",
    "    for r in rotations:\n",
    "        for ea in ellipseangles:\n",
    "            for ec in ellipsecorrs:\n",
    "                cols, rows = pattern_scaled.shape[:2]\n",
    "                center = sp.array((rows, cols))/2. - 0.5\n",
    "                #ellipse_matrix = transform.AffineTransform(matrix=scale_matrix(ec,ea,center))\n",
    "                rotation_matrix = rotation_transform_center(pattern_scaled,r,center_xy=center)\n",
    "                out, min_coords, value = PF.find(transform.warp(pattern_scaled,rotation_matrix), image_scaled, roi)\n",
    "                outmax = out.max()\n",
    "                outmin = out.min()\n",
    "                if outmax > vmax:\n",
    "                    vmax = outmax\n",
    "                if outmin < vmin:\n",
    "                    vmin = outmin\n",
    "                # undo the rescale for the coordinates\n",
    "                min_coords = min_coords.astype(sp.float64) / rescale\n",
    "                result.append([r, ea, ec, min_coords, value, out])\n",
    "                print(\".\",end=\"\", flush=True)\n",
    "    print(\"\")\n",
    "    best_param_set = result[sp.argmin([r[4] for r in result])]\n",
    "    print(\"best_degree= {}°\".format(best_param_set[0]))\n",
    "    print(\"best_ellipseangle= {}\".format(best_param_set[1]))\n",
    "    print(\"best_ellipsecorr= {}\".format(best_param_set[2]))\n",
    "    print(\"coordinates= {}\".format(best_param_set[3]))\n",
    "    print(\"minimum value= {}\".format(best_param_set[4]))\n",
    "    print(\"took {0} seconds.\".format(time.time()-start_time))\n",
    "    \n",
    "    if bool(plot) and rotate[2] > 1 and ellipsecorr[2] > 1:\n",
    "        fig = plt.figure()\n",
    "        ax = fig.add_subplot(111, projection='3d')\n",
    "        ax.surface_plot([a[0] for a in result],[a[2] for a in result],[a[4] for a in result])\n",
    "        plt.show()\n",
    "    \n",
    "    elif bool(plot) and rotate[2] > 1:\n",
    "        fig, ax = plt.subplots(1)\n",
    "        ax.plot([a[0] for a in result], [a[4] for a in result])\n",
    "        ax.set_xlabel('Angle (rotation)')\n",
    "        ax.set_ylabel('difference image-target')\n",
    "        plt.show()\n",
    "    \n",
    "    elif bool (plot) and ellipsecorr[2] > 1:\n",
    "        fig = plt.figure()\n",
    "        ax = fig.add_subplot(111, projection='3d')\n",
    "        ax.scatter([a[2] for a in result],[a[1] for a in result],[a[4] for a in result])\n",
    "        plt.show()\n",
    "        \n",
    "    if plot == 'all':\n",
    "        n_rows = int(sp.sqrt(len(result)))\n",
    "        n_cols = int(sp.ceil(len(result)/n_rows))\n",
    "        fig, ax = plt.subplots(n_rows, n_cols, squeeze=False, figsize = (2 * n_cols, 2 * n_rows))\n",
    "        fig.tight_layout(rect=[0, 0.03, 1, 0.97])\n",
    "        fig.suptitle(\"Correlation map of where target is in image\\n\", size=16)\n",
    "        n = 0\n",
    "        for i in range(n_rows):\n",
    "            for j in range(n_cols):\n",
    "                ax[i,j].axis(\"off\")\n",
    "                if n < len(result):\n",
    "                    ax[i,j].imshow(result[n][5], interpolation=\"nearest\", cmap='cubehelix', vmin=vmin, vmax=vmax)\n",
    "                    ax[i,j].annotate('A:{0:.2f};EA:{1:.2f};ES{2:.3f}'\n",
    "                                     .format(result[n][0],result[n][1],result[n][2]),[0,0])\n",
    "                    ax[i,j].annotate('Value:{0:.2f}'.format(result[n][4]), [0,5])\n",
    "                n += 1\n",
    "        plt.show()\n",
    "    if (min_coords[0] == roi[0] or min_coords[0] == roi[2] or\n",
    "        min_coords[1] == roi[1] or min_coords[1] == roi[3]):\n",
    "        raise PatternAtROIBorderWarning()\n",
    "    return result"
   ]
  },
  {
   "cell_type": "code",
   "execution_count": null,
   "metadata": {
    "collapsed": false
   },
   "outputs": [],
   "source": [
    "def build_stack (images, target, search_strategy, rescale_loc_optim, plot=False, write_files=False, PF=None):\n",
    "    '''\n",
    "    images...ndarray or skimage.io.collection.ImageCollection object containing image to be aligned\n",
    "    target...ndarray containing outline to be searched\n",
    "    search_strategy... list of dictionaries containing values for rescale(float between 0 and 1),\n",
    "                       angle range to be searched ([start,end,no_steps]), and ROI size (height,width)\n",
    "    rescale_loc_optim... list of float values between 0 and 1 defining rescaling factor during steps of local optim\n",
    "    plot...Define level of detail for plotting[False,True,'all']\n",
    "    write_files...boolean to indicate whether results are saved to file\n",
    "    PF...PatternFinder instance (optional)\n",
    "    '''    \n",
    "    #Create Patternfinder if none exists\n",
    "    if PF is None:\n",
    "        PF = PatternFinder(partitions=10)\n",
    " \n",
    "    #Initialize list which will later on contain transformations for all files in \"images\"\n",
    "    final_transforms = []\n",
    "    \n",
    "    #Check whether the input is an ImageCollection\n",
    "    use_ic = False\n",
    "    if type(images) is io.ImageCollection:\n",
    "        use_ic = True       \n",
    "        # Some tif images contain actually two images (a big one and a smaller\n",
    "        # thumbnail preview). image_collection therefore seems to generate two\n",
    "        # entries for each of the files. The load_func, however, always loads\n",
    "        # the big one, which is then actaully loaded twice. So we use a `set`\n",
    "        # to make this unique and drop duplicates.\n",
    "        imagelist = sorted(set(images.files))\n",
    "    else:\n",
    "        imagelist = images\n",
    "\n",
    "    for im_nr, image_file in enumerate(imagelist):\n",
    "        if use_ic:\n",
    "            im = img_as_float(images.load_func(image_file))\n",
    "            print(\"\\n\\nImage Nr. {0} {1}\".format(im_nr, image_file))\n",
    "        else:\n",
    "            im = img_as_float(image_file)\n",
    "            print(\"\\n\\nImage Nr. {0}\".format(im_nr))\n",
    "            \n",
    "        print(\"\\nBRUTE FORCE ALIGNMENT\", flush=True)\n",
    "        rough_trans,value = align_image_brute_force (im, target, search_strategy, plot, write_files, PF)\n",
    "        if plot == 'all':\n",
    "            im_trans = transform.warp(im, rough_trans, output_shape=[target.shape[0], target.shape[1]])\n",
    "            plot_overlay(im_trans, svg_path)\n",
    "            plt.show()\n",
    "        \n",
    "        #Print parameters of rough alignment\n",
    "        print_parameters (rough_trans)\n",
    "        \n",
    "        print (\"\\nLOCAL OPTIMIZATION\")\n",
    "        trans=rough_trans\n",
    "        for rescale in rescale_loc_optim:\n",
    "            print (\"\\nLocal Optimization, Rescale=\", rescale)\n",
    "            final_trans,res = align_image_local_optim (im,target, trans, rescale, PF, plot)\n",
    "            #Print parameters of local optimization\n",
    "            print(res.message)\n",
    "\n",
    "        final_transforms.append(final_trans)\n",
    "        im_trans = transform.warp(im, final_trans, output_shape=[target.shape[0], target.shape[1]])\n",
    "        plot_overlay(im_trans, svg_path)\n",
    "                \n",
    "        if write_files:\n",
    "            io.imsave(\"../EXPORT/\"+os.path.basename(image_file)[0:3]+\".PNG\", im_trans)\n",
    "            plt.savefig(\"../EXPORT/Plot_\"+os.path.basename(image_file)[0:3]+\".PNG\",dpi=100)\n",
    "        \n",
    "        if plot=='all':\n",
    "            plt.show()\n",
    "\n",
    "        plt.close()\n",
    "\n",
    "    if write_files:\n",
    "        # Write final transformations to file\n",
    "        file = open (\"../EXPORT/transforms.pkl\",'wb')\n",
    "        pickle.dump (final_transforms, file)\n",
    "        file.close()\n",
    "    \n",
    "    del PF\n",
    "    return final_transforms"
   ]
  },
  {
   "cell_type": "code",
   "execution_count": null,
   "metadata": {
    "collapsed": false
   },
   "outputs": [],
   "source": [
    "def align_image_brute_force(image, target, search_strategy, plot=False, write_files=False, PF=None):\n",
    "    if PF is None:\n",
    "        PF = PatternFinder(partitions=10)\n",
    "    \n",
    "    target_center = sp.array(target.shape[:2]) / 2. - 0.5\n",
    "    im_center = sp.array(image.shape[:2]) / 2. - 0.5\n",
    "    \n",
    "    best_angle = 0.0\n",
    "    best_coord = im_center\n",
    "    best_value = None\n",
    "\n",
    "    for nr, search_phase in enumerate(search_strategy):\n",
    "        print(\"\\nSearch phase {0}\".format(nr), flush=True)\n",
    "        angle_range = (search_phase[\"angle_range\"][0] + best_angle,\n",
    "                       search_phase[\"angle_range\"][1] + best_angle,\n",
    "                       search_phase[\"angle_range\"][2])\n",
    "        try:\n",
    "            res = find_pattern_rotated(PF, target, image, \n",
    "                                       rescale=search_phase[\"rescale\"],\n",
    "                                       rotate=angle_range,\n",
    "                                       roi_center=best_coord,\n",
    "                                       roi_size=search_phase[\"roi_hw\"], \n",
    "                                       plot=plot)\n",
    "        except PatternAtROIBorderWarning:\n",
    "            print(\"\\nWARNING! Pattern found at the border of the ROI. \\n\"\n",
    "                  \"That usually indicates that the \"\n",
    "                  \"true target pattern is located outside of the ROI!\")\n",
    "        best_res = res[sp.argmin([r[4] for r in res])]  # best_res is the best result in the res list\n",
    "        best_angle = best_res[0]  # The rotation angle is the 0-th element in best_res\n",
    "        best_coord = best_res[3]  # The coordinates are in the 2-nd element\n",
    "        best_value = best_res[4]  # The actual value is the 3-rd element\n",
    "                          \n",
    "        move_to_center = transform.AffineTransform(translation=-(best_coord)[::-1])\n",
    "        move_back = transform.AffineTransform(translation=(best_coord[::-1]))\n",
    "        rotation = transform.AffineTransform(rotation=-sp.deg2rad(best_angle))\n",
    "        translation = transform.AffineTransform(translation=sp.asmatrix((best_coord-target_center)[::-1]))\n",
    "\n",
    "        final_trans = translation+move_to_center+rotation+move_back\n",
    "    return final_trans, best_value"
   ]
  },
  {
   "cell_type": "code",
   "execution_count": null,
   "metadata": {
    "collapsed": false
   },
   "outputs": [],
   "source": [
    "def align_image_local_optim(image, target, transMatrix, rescale=1, PF=None,plot=False, **kws):\n",
    "    \n",
    "    if PF is None:\n",
    "        PF = PatternFinder(partitions=10)\n",
    "        \n",
    "    #Convert initialGuess transformation matrix into an ndarray with six entries for the DOFs\n",
    "    initialGuess = sp.asarray(transMatrix.params).flatten()[0:6]\n",
    "    \n",
    "    target_scaled = transform.rescale(target, rescale)\n",
    "    im_scaled = transform.rescale(image, rescale)\n",
    "           \n",
    "\n",
    "    res = sp.optimize.minimize(loss_fcn, initialGuess,args=(PF, target_scaled, im_scaled, rescale, plot), \n",
    "                                   method='Nelder-Mead', **kws)\n",
    "    print(\"\")\n",
    "    return transform.AffineTransform(sp.asmatrix(sp.append(res.x,[0,0,1]).reshape(3,3))),res\n",
    "\n",
    "def loss_fcn(guess, PF, target_scaled, image_scaled, rescale,plot):\n",
    "    \n",
    "    T = transform.AffineTransform(sp.asmatrix(sp.append(guess,[0,0,1]).reshape(3,3)))\n",
    "    scale_mat = sp.asmatrix(transform.AffineTransform(scale=[rescale, rescale]).params)\n",
    "    combined_transform = scale_mat * T.params * scale_mat.I    \n",
    "        \n",
    "    # Create \"fake\" ROI around image center with size one\n",
    "    roi_center = sp.array(image_scaled.shape[:2])/2.0 - 0.5\n",
    "    roi = pattern_finder_gpu.center_roi_around(roi_center, [1,1])\n",
    "\n",
    "    # Execute Pattern Finder and calculate best match\n",
    "    transformed_targed = transform.warp(target_scaled,\n",
    "                                        combined_transform.I,\n",
    "                                        output_shape=image_scaled.shape[:2])\n",
    "    out, min_coords, value = PF.find(transformed_targed, image_scaled, roi)\n",
    "\n",
    "    if plot=='all':\n",
    "        print_parameters(T)\n",
    "    \n",
    "    return value"
   ]
  },
  {
   "cell_type": "markdown",
   "metadata": {
    "collapsed": true
   },
   "source": [
    "### Start of main script"
   ]
  },
  {
   "cell_type": "code",
   "execution_count": null,
   "metadata": {
    "collapsed": false
   },
   "outputs": [],
   "source": [
    "# Load Target File containing the template for the further template matching\n",
    "target = img_as_float(io.imread(\"../DELTA/Target_Delta_92_20smooth_edges_filled_quadratic.png\"))\n",
    "# Load SVG file containing outline of template and extract path frpom xml format\n",
    "svg_xml = minidom.parse(\"../DELTA/Target_Delta_92_20smooth_edges_filled_quadratic.SVG\")\n",
    "svg_path = svg.path.parse_path([path.getAttribute('d') for path in svg_xml.getElementsByTagName('path')][0])\n",
    "svg_xml.unlink()\n",
    "# Load image collection\n",
    "ic=io.ImageCollection('../DELTA/*.tif')\n",
    "# border transparent\n",
    "target[0,:,3] = 0.0\n",
    "target[-1,:,3] = 0.0\n",
    "target[:,0,3] = 0.0\n",
    "target[:,-1,3] = 0.0"
   ]
  },
  {
   "cell_type": "code",
   "execution_count": null,
   "metadata": {
    "collapsed": false
   },
   "outputs": [],
   "source": [
    "#Quick check if the target image and the SVG outline match\n",
    "plot_overlay(target, svg_path, figsize=(15,15))"
   ]
  },
  {
   "cell_type": "code",
   "execution_count": null,
   "metadata": {
    "collapsed": true
   },
   "outputs": [],
   "source": [
    "#Definition of search strategy for brute force\n",
    "search_strategy=[dict(rescale=0.1, angle_range=(   0,  0,  1), roi_hw=(51, 51)),\n",
    "                 dict(rescale=0.1, angle_range=( 55, 35, 101), roi_hw=(15, 15))]"
   ]
  },
  {
   "cell_type": "code",
   "execution_count": null,
   "metadata": {
    "collapsed": false,
    "scrolled": true
   },
   "outputs": [],
   "source": [
    "#Execution of image alignment\n",
    "result = build_stack(ic, target, search_strategy,rescale_loc_optim=[0.1], \n",
    "                     PF=pattern_finder_gpu.PatternFinder(partitions=10),write_files=True,plot='all')"
   ]
  }
 ],
 "metadata": {
  "kernelspec": {
   "display_name": "Python 3",
   "language": "python",
   "name": "python3"
  },
  "language_info": {
   "codemirror_mode": {
    "name": "ipython",
    "version": 3
   },
   "file_extension": ".py",
   "mimetype": "text/x-python",
   "name": "python",
   "nbconvert_exporter": "python",
   "pygments_lexer": "ipython3",
   "version": "3.4.3"
  }
 },
 "nbformat": 4,
 "nbformat_minor": 0
}
