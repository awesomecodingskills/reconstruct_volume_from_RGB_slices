{
 "cells": [
  {
   "cell_type": "markdown",
   "metadata": {},
   "source": [
    "# Build Stack – Aligning a Stack of Images Based On a Fixed Target Outline"
   ]
  },
  {
   "cell_type": "markdown",
   "metadata": {},
   "source": [
    "Authors: Daniel Sieber, Samuel John\n",
    "\n",
    "#### Abstract\n",
    "\n",
    "Images that have been cut or grinded from a block are oftentimes not aligned. This IPython notebook uses a fixed target structure in the image (in our case the outline of an overmold) that is visible in all images of the stack to find the best affine transform which aligns all images to the given target. The target is based on one image of the stack where only the fixed structure remains visible and the remaining area is made transparent.\n",
    "\n",
    "#### Repository\n",
    "\n",
    "<https://github.com/awesomecodingskills/reconstruct_volume_from_RGB_slices>\n",
    "\n",
    "#### TODO\n",
    "\n",
    "- Write better Abstract\n",
    "- Add \"How to cite\" statement and link to paper (DOI) here\n",
    "- Improve code commenting\n",
    "\n",
    "\n",
    "#### [The MIT License (MIT)](http://opensource.org/licenses/MIT)\n",
    "\n",
    "Copyright (c) 2015 Daniel Sieber, Samuel John\n",
    "\n",
    "\n",
    "<div style=\"font-size:7pt;\">\n",
    "Permission is hereby granted, free of charge, to any person obtaining a copy\n",
    "of this software and associated documentation files (the \"Software\"), to deal\n",
    "in the Software without restriction, including without limitation the rights\n",
    "to use, copy, modify, merge, publish, distribute, sublicense, and/or sell\n",
    "copies of the Software, and to permit persons to whom the Software is\n",
    "furnished to do so, subject to the following conditions:\n",
    "\n",
    "The above copyright notice and this permission notice shall be included in\n",
    "all copies or substantial portions of the Software.\n",
    "\n",
    "THE SOFTWARE IS PROVIDED \"AS IS\", WITHOUT WARRANTY OF ANY KIND, EXPRESS OR\n",
    "IMPLIED, INCLUDING BUT NOT LIMITED TO THE WARRANTIES OF MERCHANTABILITY,\n",
    "FITNESS FOR A PARTICULAR PURPOSE AND NONINFRINGEMENT.  IN NO EVENT SHALL THE\n",
    "AUTHORS OR COPYRIGHT HOLDERS BE LIABLE FOR ANY CLAIM, DAMAGES OR OTHER\n",
    "LIABILITY, WHETHER IN AN ACTION OF CONTRACT, TORT OR OTHERWISE, ARISING FROM,\n",
    "OUT OF OR IN CONNECTION WITH THE SOFTWARE OR THE USE OR OTHER DEALINGS IN\n",
    "THE SOFTWARE.\n",
    "</div>"
   ]
  },
  {
   "cell_type": "markdown",
   "metadata": {},
   "source": [
    "### Imports & Set-Up"
   ]
  },
  {
   "cell_type": "code",
   "execution_count": null,
   "metadata": {
    "collapsed": false
   },
   "outputs": [],
   "source": [
    "# Plot in this IPython Notebook instead of opening separate windows\n",
    "%matplotlib inline\n",
    "%config InlineBackend.figure_format = 'retina'"
   ]
  },
  {
   "cell_type": "code",
   "execution_count": null,
   "metadata": {
    "collapsed": false
   },
   "outputs": [],
   "source": [
    "import os\n",
    "import time\n",
    "\n",
    "# Import external modules used by this script\n",
    "from skimage import img_as_float, io, transform\n",
    "\n",
    "# Scientific Python and typed array/matrix support (by including NumPy)\n",
    "import scipy as sp\n",
    "\n",
    "# Plotting\n",
    "import matplotlib.pyplot as plt\n",
    "from mpl_toolkits.mplot3d import Axes3D\n",
    "\n",
    "# Write Python objects to disk.\n",
    "# TODO: This should be replaced by some HDF5 files that store the transformation matrix\n",
    "import pickle\n",
    "\n",
    "# Parsing svg files and accessing paths in there\n",
    "from xml.dom import minidom\n",
    "import svg.path  # you might need to `pip install svg.path`"
   ]
  },
  {
   "cell_type": "markdown",
   "metadata": {},
   "source": [
    "Our own modules:"
   ]
  },
  {
   "cell_type": "code",
   "execution_count": null,
   "metadata": {
    "collapsed": false
   },
   "outputs": [],
   "source": [
    "import pattern_finder_gpu\n",
    "from pattern_finder_gpu import center_roi_around, find_pattern_rotated"
   ]
  },
  {
   "cell_type": "markdown",
   "metadata": {},
   "source": [
    "### Definition of functions used by this script:"
   ]
  },
  {
   "cell_type": "code",
   "execution_count": null,
   "metadata": {
    "collapsed": true
   },
   "outputs": [],
   "source": [
    "def plot_overlay(image, svg_path, ax=None, figsize=(15,15)):\n",
    "    \"\"\"\n",
    "    This function plots a path from an SVG_xml and shows it on top of image.\n",
    "    - `image`: ndarray\n",
    "    - `svg_path`: svg path object, see `svg.path`\n",
    "    - `ax`: Matplotlib axes object\n",
    "    - `figsize`: size of figure in inch (see Matplotlib)\n",
    "    \"\"\"\n",
    "    \n",
    "    #Create new figure and axes\n",
    "    if ax is None:\n",
    "        fig = plt.figure(figsize=figsize)\n",
    "        ax = fig.add_axes([0,0,1,1])\n",
    "    #Show transformed image\n",
    "    ax.imshow(image, interpolation='nearest')\n",
    "    #Sample 10000 points from the path and get their coordinates\n",
    "    numberSamplePoints = 10000\n",
    "    overlay_coords = sp.array([svg_path.point(p/numberSamplePoints) for p in range(numberSamplePoints)])\n",
    "    #Plot the path\n",
    "    ax.plot(overlay_coords.real, overlay_coords.imag, color='magenta')"
   ]
  },
  {
   "cell_type": "code",
   "execution_count": null,
   "metadata": {
    "collapsed": true
   },
   "outputs": [],
   "source": [
    "def print_parameters(T,value=None,im_scaled=None, end=\"\\n\"):\n",
    "    \"\"\"\n",
    "    Function that prints the components an affine transformation matrix on screen.\n",
    "    Additionally the resulting `error` can be printed in a normalized way.\n",
    "    (Kind of the average error per pixel to make different rescales comparable)\n",
    "    - `T`: skimage.transform.AffineTransformation object\n",
    "    - `value`: sum of distances of pixels between image and target in RGB space\n",
    "    - `im_scaled`: rescaled ndarray containing image to determine number of pixels\n",
    "  \n",
    "    \n",
    "    Meaning of outputs printed:\n",
    "        \n",
    "        x,y: Translations in X,Y direction\n",
    "        r: Rotation in degrees\n",
    "        sx,sy: Scale in X,Y direction\n",
    "        shear: Shear\n",
    "        value: Normalized error(Kind of the average error per pixel to make different rescales comparable)\n",
    "    \"\"\"\n",
    "    #Calculate normalized error\n",
    "    norm_value= value / (im_scaled.shape[0]*im_scaled.shape[1])\n",
    "    \n",
    "    print(\" x = {x:.0f} y = {y:.0f} r = {rot:.3f}º sx = {sx:.3f} sy = {sy:.3f} shear = {shear:.4f} =>value ={n_error:.8f}\"\n",
    "          .format(x=sp.float64(T.translation[0]),\n",
    "                  y=sp.float64(T.translation[1]),\n",
    "                  rot=sp.rad2deg(T.rotation),\n",
    "                  sx=T.scale[0],\n",
    "                  sy=T.scale[1], \n",
    "                  shear=T.shear,\n",
    "                  n_error=norm_value),\n",
    "          end=end)"
   ]
  },
  {
   "cell_type": "code",
   "execution_count": null,
   "metadata": {
    "collapsed": false
   },
   "outputs": [],
   "source": [
    "def build_stack(images, target, rough_search_strategy, fine_search_strategy,\n",
    "                plot=False, write_files=False, PF=None):\n",
    "    \"\"\"\n",
    "    - `images`: ndarray or skimage.io.collection.ImageCollection object containing image to be aligned\n",
    "    - `target`: ndarray containing outline to be searched\n",
    "    - `rough_search_strategy`: list of dictionaries containing values for rescale(float between 0 and 1),\n",
    "                       angle range to be searched ([start,end,no_steps]), and ROI size (height,width)\n",
    "    - `fine_search_strategy`: list of dictionaries containing the values for the fine tuning optimizer:\n",
    "        + rescale: The rescale factor (float between 0 and 1) to compute the similarity during optimization.\n",
    "    - `plot`: Define level of detail for plotting[False,True,'all']\n",
    "    - `write_files`: boolean to indicate whether results are saved to file\n",
    "    - `PF`: PatternFinder instance (optional)\n",
    "    \"\"\"    \n",
    "\n",
    "    # Create Patternfinder if none exists\n",
    "    if PF is None:\n",
    "        PF = PatternFinder(partitions=10)\n",
    " \n",
    "    # Initialize list which will later on contain transformations for all files in \"images\"\n",
    "    final_transforms = []\n",
    "    \n",
    "    # Check whether the input is an ImageCollection\n",
    "    use_ic = False\n",
    "    if type(images) is io.ImageCollection:\n",
    "        use_ic = True       \n",
    "        # Some tif images contain actually two images (a big one and a smaller\n",
    "        # thumbnail preview). image_collection therefore seems to generate two\n",
    "        # entries for each of the files. The load_func, however, always loads\n",
    "        # the big one, which is then actaully loaded twice. So we use a `set`\n",
    "        # to make this unique and drop duplicates.\n",
    "        imagelist = sorted(set(images.files))\n",
    "    else:\n",
    "        imagelist = images\n",
    "\n",
    "    for im_nr, image_file in enumerate(imagelist):\n",
    "        if use_ic:\n",
    "            im = img_as_float(images.load_func(image_file))\n",
    "            print(\"\\n\\nImage Nr. {0} {1}\".format(im_nr, image_file))\n",
    "        else:\n",
    "            im = img_as_float(image_file)\n",
    "            print(\"\\n\\nImage Nr. {0}\".format(im_nr))\n",
    "            \n",
    "        print(\"\\n === BRUTE FORCE ALIGNMENT ===\", flush=True)\n",
    "        rough_trans, value = align_image_brute_force(im, target, rough_search_strategy, plot, write_files, PF)\n",
    "\n",
    "        if plot == 'all':\n",
    "            im_trans = transform.warp(im, rough_trans, output_shape=[target.shape[0], target.shape[1]])\n",
    "            plot_overlay(im_trans, svg_path)\n",
    "            plt.show()\n",
    "        \n",
    "        print(\"\\n === LOCAL OPTIMIZATION ===\")\n",
    "\n",
    "        trans = rough_trans\n",
    "        for i, strategy in enumerate(fine_search_strategy):\n",
    "            print(\"\\n --- Round {i} ---\".format(i=i+1))\n",
    "            print(\"    strategy = {}\".format(strategy), flush=True)\n",
    "         \n",
    "            # Update the refined `trans` for each round in this search strategy\n",
    "            trans, res = align_image_local_optim(im, target, trans,\n",
    "                                                 PF=PF, plot=plot, **strategy)\n",
    "            # Print parameters of local optimization\n",
    "            print(res.message, flush=True)            \n",
    "\n",
    "        final_transforms.append(trans)\n",
    "        im_trans = transform.warp(im, trans, output_shape=[target.shape[0], target.shape[1]])\n",
    "        plot_overlay(im_trans, svg_path)\n",
    "                \n",
    "        if write_files:\n",
    "            io.imsave(write_files + os.sep + os.path.basename(image_file)[0:3] + \".PNG\", im_trans)\n",
    "            plt.savefig(write_files + os.sep + \"Plot_\" + os.path.basename(image_file)[0:3] + \".PNG\", dpi=100)\n",
    "            sp.savetxt(write_files + os.sep + \"Transform_\" + os.path.basename(image_file)[0:3] + \".CSV\", \n",
    "                        trans.params, fmt='%.50f', delimiter=';' )\n",
    "        \n",
    "        if plot == 'all':\n",
    "            plt.show()\n",
    "\n",
    "        plt.close()\n",
    "\n",
    "    \n",
    "    del PF\n",
    "    return final_transforms"
   ]
  },
  {
   "cell_type": "code",
   "execution_count": null,
   "metadata": {
    "collapsed": false
   },
   "outputs": [],
   "source": [
    "def align_image_brute_force(image, target, search_strategy, plot=False, write_files=False, PF=None):\n",
    "    if PF is None:\n",
    "        PF = PatternFinder(partitions=10)\n",
    "    \n",
    "    target_center = sp.array(target.shape[:2]) / 2. - 0.5\n",
    "    im_center = sp.array(image.shape[:2]) / 2. - 0.5\n",
    "    \n",
    "    #Initialize transformation between image and target as identity\n",
    "    T = transform.AffineTransform(matrix=sp.asmatrix([[1,0,0],[0,1,0],[0,0,1]]))\n",
    "    best_value = None\n",
    "    \n",
    "\n",
    "    for nr, search_phase in enumerate(search_strategy):\n",
    "        print(\"\\nSearch phase {0}\".format(nr), flush=True)\n",
    "        best_angle = sp.rad2deg(T.rotation)\n",
    "        angle_range = (search_phase[\"angle_range\"][0] + best_angle,\n",
    "                       search_phase[\"angle_range\"][1] + best_angle,\n",
    "                       search_phase[\"angle_range\"][2])\n",
    "        best_coord = sp.array([int(im_center[0]+T.translation[0]),int(im_center[1]+T.translation[1])])\n",
    "        \n",
    "        T,value = find_pattern_rotated(PF, target, image,\n",
    "                                       rescale=search_phase[\"rescale\"],\n",
    "                                       rotate=angle_range,\n",
    "                                       roi_center=best_coord,\n",
    "                                       roi_size=search_phase[\"roi_hw\"], \n",
    "                                       plot=plot)\n",
    "\n",
    "        if plot:\n",
    "            # TODO: Check if this can be done more efficiently\n",
    "            image_rescaled = transform.rescale(image,search_phase[\"rescale\"])\n",
    "            # Print parameters\n",
    "            print_parameters(T, value,image_rescaled)\n",
    "            #DEBUGGING:\n",
    "            print (\"=> Value:\", value)\n",
    "            #DEBUGGING:\n",
    "            print (T.params)\n",
    "            \n",
    "    return T, value"
   ]
  },
  {
   "cell_type": "code",
   "execution_count": null,
   "metadata": {
    "collapsed": false
   },
   "outputs": [],
   "source": [
    "def align_image_local_optim(image, target, T, PF=None, plot=False, **kws):\n",
    "    \n",
    "    rescale = kws.pop(\"rescale\", 1)  # Extract and remove \"rescale\" from kws and if not in there, default to 1\n",
    "    \n",
    "    if PF is None:\n",
    "        PF = PatternFinder(partitions=10)\n",
    "    \n",
    "    # Convert initialGuess transformation matrix into an ndarray with six entries for the DOFs\n",
    "    initialGuess = sp.asarray([sp.asscalar(T.translation[0]),\n",
    "                               sp.asscalar(T.translation[1]),\n",
    "                               T.rotation,T.scale[0],T.scale[1],T.shear])\n",
    "    target_scaled = transform.rescale(target, rescale)\n",
    "    im_scaled = transform.rescale(image, rescale)\n",
    "\n",
    "    # Set (and upload to GPU) the image already now,\n",
    "    # because during optimization it is not changed at all.\n",
    "    PF.set_image(im_scaled)\n",
    "\n",
    "    res = sp.optimize.minimize(loss_fcn,\n",
    "                               initialGuess,\n",
    "                               args=(PF, target_scaled, im_scaled, rescale, plot), \n",
    "                               method='Nelder-Mead',\n",
    "                               **kws)\n",
    "    \n",
    "    final_trans = transform.AffineTransform (rotation=res.x[2],shear=res.x[5],\n",
    "                                             scale=[res.x[3],res.x[4]],translation=[res.x[0],res.x[1]])\n",
    "    \n",
    "    if plot==True:\n",
    "        print_parameters(final_trans,res.fun,im_scaled)\n",
    "        \n",
    "    print()\n",
    "    return final_trans, res"
   ]
  },
  {
   "cell_type": "code",
   "execution_count": null,
   "metadata": {
    "collapsed": false
   },
   "outputs": [],
   "source": [
    "def loss_fcn(guess, PF, target_scaled, image_scaled, rescale, plot):\n",
    "    \n",
    "    T = transform.AffineTransform (rotation=guess[2],shear=guess[5],\n",
    "                                   scale=[guess[3],guess[4]],translation=[guess[0],guess[1]])\n",
    "    #DEBUGGING:\n",
    "    #print(T.params)\n",
    "    scale_mat = sp.asmatrix(transform.AffineTransform(scale=[rescale, rescale]).params)\n",
    "    combined_transform = scale_mat * T.params * scale_mat.I    \n",
    "        \n",
    "    # Create \"fake\" ROI around image center with size one\n",
    "    roi_center = sp.array(image_scaled.shape[:2])/2.0 - 0.5\n",
    "    roi = pattern_finder_gpu.center_roi_around(roi_center, [1,1])\n",
    "\n",
    "    # Execute Pattern Finder and calculate best match\n",
    "    transformed_targed = transform.warp(target_scaled,\n",
    "                                        combined_transform.I,\n",
    "                                        output_shape=image_scaled.shape[:2])\n",
    "    PF.set_pattern(transformed_targed)\n",
    "    out, min_coords, value = PF.find(roi=roi)\n",
    "\n",
    "    if plot=='all':\n",
    "        print_parameters(T,value,image_scaled)\n",
    "        #DEBUGGING:\n",
    "        print(\" => {}\".format(value), flush=True)\n",
    "\n",
    "    return value"
   ]
  },
  {
   "cell_type": "markdown",
   "metadata": {
    "collapsed": true
   },
   "source": [
    "### Start of main script"
   ]
  },
  {
   "cell_type": "code",
   "execution_count": null,
   "metadata": {
    "collapsed": false
   },
   "outputs": [],
   "source": [
    "# Load Target File containing the template for the further template matching\n",
    "target = img_as_float(io.imread(\"../Eta/Target_ETA_138_40.png\"))\n",
    "# Load SVG file containing outline of template and extract path frpom xml format\n",
    "svg_xml = minidom.parse(\"../Eta/Target_ETA_138_40.svg\")\n",
    "svg_path = svg.path.parse_path([path.getAttribute('d') for path in svg_xml.getElementsByTagName('path')][0])\n",
    "svg_xml.unlink()\n",
    "# Load image collection\n",
    "ic = io.ImageCollection('../Eta/*.tif',conserve_memory=True)\n",
    "# Assure the border of the target is transparent\n",
    "target[0,:,3] = 0.0\n",
    "target[-1,:,3] = 0.0\n",
    "target[:,0,3] = 0.0\n",
    "target[:,-1,3] = 0.0"
   ]
  },
  {
   "cell_type": "code",
   "execution_count": null,
   "metadata": {
    "collapsed": false,
    "scrolled": true
   },
   "outputs": [],
   "source": [
    "#Quick check if the target image and the SVG outline match\n",
    "plot_overlay(target, svg_path, figsize=(7,7))"
   ]
  },
  {
   "cell_type": "code",
   "execution_count": null,
   "metadata": {
    "collapsed": true
   },
   "outputs": [],
   "source": [
    "#Definition of search strategy for brute force\n",
    "rough_search_strategy = [dict(rescale=0.1, angle_range=(   0,  0,  1), roi_hw=(51, 51)),\n",
    "                         dict(rescale=0.1, angle_range=( 35, 55, 101), roi_hw=(31, 31))]\n",
    "\n",
    "fine_search_strategy = [dict(rescale=0.1, tol=10.0),\n",
    "                        dict(rescale=0.3, tol=10.0)]"
   ]
  },
  {
   "cell_type": "code",
   "execution_count": null,
   "metadata": {
    "collapsed": true
   },
   "outputs": [],
   "source": [
    "import warnings\n",
    "import logging"
   ]
  },
  {
   "cell_type": "code",
   "execution_count": null,
   "metadata": {
    "collapsed": false,
    "scrolled": true
   },
   "outputs": [],
   "source": [
    "#Execution of image alignment\n",
    "with warnings.catch_warnings():\n",
    "    PF=pattern_finder_gpu.PatternFinder(partitions=10)\n",
    "    PF.logger.setLevel(logging.INFO)\n",
    "    warnings.simplefilter(\"ignore\")  # strangely \"once\" does not seem to do what it says... so for now just \"shut up\"\n",
    "    result = build_stack(ic,\n",
    "                         target,\n",
    "                         rough_search_strategy=rough_search_strategy,\n",
    "                         fine_search_strategy=fine_search_strategy,\n",
    "                         PF=PF,\n",
    "                         write_files='../EXPORT',\n",
    "                         plot=False)"
   ]
  },
  {
   "cell_type": "code",
   "execution_count": null,
   "metadata": {
    "collapsed": true
   },
   "outputs": [],
   "source": []
  }
 ],
 "metadata": {
  "kernelspec": {
   "display_name": "Python 3",
   "language": "python",
   "name": "python3"
  },
  "language_info": {
   "codemirror_mode": {
    "name": "ipython",
    "version": 3
   },
   "file_extension": ".py",
   "mimetype": "text/x-python",
   "name": "python",
   "nbconvert_exporter": "python",
   "pygments_lexer": "ipython3",
   "version": "3.4.3"
  }
 },
 "nbformat": 4,
 "nbformat_minor": 0
}
