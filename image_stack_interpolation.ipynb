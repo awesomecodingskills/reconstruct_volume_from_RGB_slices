{
 "cells": [
  {
   "cell_type": "code",
   "execution_count": null,
   "metadata": {
    "collapsed": false
   },
   "outputs": [],
   "source": [
    "from scipy import interpolate\n",
    "from skimage import io, img_as_float, transform\n",
    "import scipy as sp\n",
    "import csv\n",
    "%matplotlib inline"
   ]
  },
  {
   "cell_type": "code",
   "execution_count": null,
   "metadata": {
    "collapsed": false
   },
   "outputs": [],
   "source": [
    "def read_stack_csv (csvfile):\n",
    "# This function reads layer positions from a csv file which has these positions as first entry rowwise\n",
    "# The layer positions are returned as a list\n",
    "    csv_pos= []\n",
    "    with open (csvfile) as file:\n",
    "        for row in csv.reader(file):\n",
    "            csv_pos.append(float(row[0]))\n",
    "    return csv_pos"
   ]
  },
  {
   "cell_type": "code",
   "execution_count": null,
   "metadata": {
    "collapsed": false
   },
   "outputs": [],
   "source": [
    "def create_hd_structure (csv_pos, targetLayerSize):\n",
    "#Function to provide all information needed to create a HD image stack:\n",
    "#Determine for each layer of the upsampled dataset whether or not it has to be interpolated\n",
    "#Create an array with the following entries:\n",
    "#Interpolated Image:[Stack_Position[mm],'Interpolated', 'False', 'False', 0 ]\n",
    "#Real_Image: [Stack_Position[mm], 'Real_Image', Original Image#,Original Image Pos, Pos Error of this slice]\n",
    "\n",
    "    #Calculate layer number in upsampled dataset for each layer\n",
    "    layerNum = []\n",
    "    for pos in csv_pos:\n",
    "        layerNum.append(round(pos/targetLayerSize))\n",
    "\n",
    "    #Initialize and build upsampled stack\n",
    "    hdstack = []\n",
    "    for i in range(layerNum[-1]+1):\n",
    "        try:\n",
    "            layerNum.index(i)\n",
    "        except ValueError:\n",
    "            hdstack.append([i*targetLayerSize,'Interpolated',False,False,0]) \n",
    "        else:\n",
    "            hdstack.append([i*targetLayerSize,'Real_Image',layerNum.index(i),\n",
    "                                        csv_pos[layerNum.index(i)],i*targetLayerSize-csv_pos[layerNum.index(i)]])\n",
    "    return hdstack"
   ]
  },
  {
   "cell_type": "code",
   "execution_count": null,
   "metadata": {
    "collapsed": true
   },
   "outputs": [],
   "source": [
    "def load_resized_image (ic, im_nr, targetPixelNumXY):\n",
    "#Loads an image from an imageCollection and returns a version rezized to the target pixel number\n",
    "    im = ic.load_func(ic.files[im_nr])\n",
    "    image_scaled = img_as_float(transform.resize(im, targetPixelNumXY))\n",
    "    return image_scaled"
   ]
  },
  {
   "cell_type": "code",
   "execution_count": null,
   "metadata": {
    "collapsed": false
   },
   "outputs": [],
   "source": [
    "def determineError (hdstack):\n",
    "#Determine maximal deviation of real slices from their actual position\n",
    "    maxErr = 0.0\n",
    "    for i in range(len(hdstack)):\n",
    "        if hdstack[i][1] == 'Real_Image':\n",
    "            if hdstack[i][4] > maxErr:\n",
    "                maxErr=hdstack[i][4]\n",
    "    return maxErr         "
   ]
  },
  {
   "cell_type": "code",
   "execution_count": null,
   "metadata": {
    "collapsed": false,
    "scrolled": true
   },
   "outputs": [],
   "source": [
    "def interpolate_image (ic, hdstack, im_nr, targetPixelNumXY):\n",
    "#Determine previous and next \"real image\" for an interpolated image and resize them\n",
    "#Determine interpolation factor, Calculate interpolated image by liner interpolation\n",
    "\n",
    "        #Make sure this is not a real image\n",
    "        assert hdstack[im_nr][1] == 'Interpolated', 'This is not an interpolated image'\n",
    "        \n",
    "        #Find and load the last and next image which are real images\n",
    "        lastRealImage = im_nr\n",
    "        while hdstack[lastRealImage][1] == 'Interpolated':\n",
    "            lastRealImage=lastRealImage-1\n",
    "        lastImageResized = load_resized_image(ic,hdstack[lastRealImage][2], targetPixelNumXY)\n",
    "        nextRealImage = im_nr\n",
    "        while hdstack[nextRealImage][1] == 'Interpolated':\n",
    "            nextRealImage=nextRealImage+1\n",
    "        nextImageResized = load_resized_image(ic,hdstack[nextRealImage][2], targetPixelNumXY)\n",
    "        \n",
    "        #Calculate interpolation factor\n",
    "        interpolFactor = ((hdstack[im_nr][0]-hdstack[lastRealImage][3]) /\n",
    "                          (hdstack[nextRealImage][3]-hdstack[lastRealImage][3]))\n",
    "        \n",
    "        #Interpolate pixelwise between the last and next real image\n",
    "        interpolImage = (1-interpolFactor) * lastImageResized + interpolFactor * nextImageResized\n",
    "        \n",
    "        return interpolFactor, interpolImage, lastRealImage, nextRealImage, lastImageResized, nextImageResized"
   ]
  },
  {
   "cell_type": "code",
   "execution_count": null,
   "metadata": {
    "collapsed": true
   },
   "outputs": [],
   "source": [
    "#Definition of Constants\n",
    "targetPixelNumXY = (792,792)\n",
    "targetLayerSize = 0.150\n",
    "csvfile='../Eta/Layer_Positions_ETA.csv'\n",
    "images=io.ImageCollection('../Eta/EXPORT ETA V3/*.PNG')\n",
    "savedir= '../Eta/EXPORT ETA V3/Interpol/'"
   ]
  },
  {
   "cell_type": "code",
   "execution_count": null,
   "metadata": {
    "collapsed": false,
    "scrolled": true
   },
   "outputs": [],
   "source": [
    "#Main Script\n",
    "\n",
    "#Read CSV file\n",
    "csv_pos = read_stack_csv (csvfile)\n",
    "\n",
    "#Create HDStack Information\n",
    "hdstack = create_hd_structure (csv_pos, targetLayerSize)\n",
    "\n",
    "#Interpolate\n",
    "for i in range(len(hdstack)):\n",
    "    if hdstack[i][1] == 'Interpolated':\n",
    "        interpolFactor, interpolImage,l,n,li,ni = interpolate_image (images, hdstack, i, targetPixelNumXY)\n",
    "        io.imsave (savedir+'{0:03d}'.format(i)+\".PNG\",interpolImage)\n",
    "        print ('Slice number {0:03d} has been interpolated between {1:03d} and {2:03d} \\n'.format(i,l,n))\n",
    "    else:\n",
    "        image_scaled=load_resized_image(images, hdstack[i][2], targetPixelNumXY)\n",
    "        io.imsave (savedir+'{0:03d}'.format(i)+\".PNG\",image_scaled)\n",
    "        print ('Slice number {0:03d} has been resized and written \\n'.format(i))"
   ]
  },
  {
   "cell_type": "code",
   "execution_count": null,
   "metadata": {
    "collapsed": true
   },
   "outputs": [],
   "source": [
    "a = images[0] * 0.2 + images[1] * 0.8"
   ]
  },
  {
   "cell_type": "code",
   "execution_count": null,
   "metadata": {
    "collapsed": true
   },
   "outputs": [],
   "source": []
  }
 ],
 "metadata": {
  "kernelspec": {
   "display_name": "Python 3",
   "language": "python",
   "name": "python3"
  },
  "language_info": {
   "codemirror_mode": {
    "name": "ipython",
    "version": 3
   },
   "file_extension": ".py",
   "mimetype": "text/x-python",
   "name": "python",
   "nbconvert_exporter": "python",
   "pygments_lexer": "ipython3",
   "version": "3.4.3"
  }
 },
 "nbformat": 4,
 "nbformat_minor": 0
}
